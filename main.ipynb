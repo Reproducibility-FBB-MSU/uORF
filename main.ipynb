{
 "cells": [
  {
   "cell_type": "markdown",
   "metadata": {},
   "source": [
    "## Importing modules:"
   ]
  },
  {
   "cell_type": "code",
   "execution_count": null,
   "metadata": {},
   "outputs": [],
   "source": [
    "import numpy as np\n",
    "import pandas as pd\n",
    "import matplotlib as mpl\n",
    "import matplotlib.pyplot as plt\n",
    "import seaborn as sns"
   ]
  },
  {
   "cell_type": "code",
   "execution_count": null,
   "metadata": {},
   "outputs": [],
   "source": [
    "from collections import defaultdict"
   ]
  },
  {
   "cell_type": "code",
   "execution_count": null,
   "metadata": {},
   "outputs": [],
   "source": [
    "import warnings\n",
    "warnings.filterwarnings('ignore')"
   ]
  },
  {
   "cell_type": "markdown",
   "metadata": {},
   "source": [
    "## Getting data from TSV tables:"
   ]
  },
  {
   "cell_type": "code",
   "execution_count": null,
   "metadata": {},
   "outputs": [],
   "source": [
    "df_zebrafish = pd.read_csv(\"92759_Dataset_EV1/Dataset_EV1.txt\", sep=\"\\t\")\n",
    "df_human = pd.read_csv(\"92759_Dataset_EV2/Dataset_EV2.txt\", sep=\"\\t\")\n",
    "df_mouse = pd.read_csv(\"92759_Dataset_EV3/Dataset_EV3.txt\", sep=\"\\t\")"
   ]
  },
  {
   "cell_type": "code",
   "execution_count": null,
   "metadata": {},
   "outputs": [],
   "source": [
    "sns.set_style(\"darkgrid\")\n",
    "sns.set_palette(\"deep\")"
   ]
  },
  {
   "cell_type": "code",
   "execution_count": null,
   "metadata": {},
   "outputs": [],
   "source": [
    "font = {'family' : 'normal',\n",
    "        'weight' : 'normal',\n",
    "        'size'   : 14}\n",
    "mpl.rc('font', **font)"
   ]
  },
  {
   "cell_type": "code",
   "execution_count": null,
   "metadata": {},
   "outputs": [],
   "source": [
    "def reset_axis():\n",
    "    height, width = 6, 10\n",
    "    sns.set(rc={\"figure.figsize\": (width, height)})\n",
    "    return None"
   ]
  },
  {
   "cell_type": "code",
   "execution_count": null,
   "metadata": {},
   "outputs": [],
   "source": [
    "def change_fontsize(plot, size):\n",
    "    for item in ([plot.title, plot.xaxis.label, plot.yaxis.label] +\n",
    "                 plot.get_xticklabels() + plot.get_yticklabels()):\n",
    "        item.set_fontsize(size)\n",
    "    return None"
   ]
  },
  {
   "cell_type": "code",
   "execution_count": null,
   "metadata": {},
   "outputs": [],
   "source": [
    "def get_orf_type(row):\n",
    "    if row[\"numuORFs\"] > 0:\n",
    "        return \"u\"\n",
    "    elif row[\"numoORFs\"] > 0:\n",
    "        return \"o\"\n",
    "    else:\n",
    "        return \"n\""
   ]
  },
  {
   "cell_type": "code",
   "execution_count": null,
   "metadata": {},
   "outputs": [],
   "source": [
    "orf_types = []\n",
    "for df in [df_zebrafish, df_human, df_mouse]:\n",
    "    orf_type_db = defaultdict(int)\n",
    "    prev = [None, None]\n",
    "    for _, row in df.iterrows():\n",
    "        current_type = get_orf_type(row)\n",
    "        \n",
    "        if row[\"txID\"] == prev[0]:\n",
    "            if prev[1] == \"u\":\n",
    "                pass\n",
    "            elif prev[1] == \"o\" and current_type == \"u\":\n",
    "                prev[1] = current_type\n",
    "            elif prev[1] == \"n\":\n",
    "                prev[1] = current_type\n",
    "            else:\n",
    "                pass\n",
    "        else:\n",
    "            orf_type_db[prev[1]] += 1\n",
    "            prev[0] = row[\"txID\"]\n",
    "            prev[1] = current_type\n",
    "            if prev[1]:\n",
    "                orf_type_db[prev[1]] += 1\n",
    "    orf_type_db[prev[1]] += 1\n",
    "    orf_types.append(orf_type_db)"
   ]
  },
  {
   "cell_type": "code",
   "execution_count": null,
   "metadata": {},
   "outputs": [],
   "source": [
    "print(orf_types)"
   ]
  },
  {
   "cell_type": "markdown",
   "metadata": {},
   "source": [
    "## Pie charts"
   ]
  },
  {
   "cell_type": "code",
   "execution_count": null,
   "metadata": {},
   "outputs": [],
   "source": [
    "data = [{\"values\": [db[\"u\"], db[\"o\"], db[\"n\"]],\n",
    "         \"labels\": [\"uORF\", \"oORF\", \"no ORF\"]}\n",
    "        for db in orf_types]\n",
    "colors = [\"#D05DFD\", \"orange\", \"#F0F0F0\"]\n",
    "sns.set(rc={\"figure.figsize\": (20, 6)})\n",
    "fig = plt.figure()\n",
    "\n",
    "plot1 = fig.add_subplot(1, 3, 1)\n",
    "plot1.title.set_text(\"Zebrafish\")\n",
    "plot1.axis('equal')\n",
    "plot1.pie(data[0][\"values\"], labels=data[0][\"labels\"], colors=colors, autopct='%1.1f%%', shadow=True, startangle=135)\n",
    "\n",
    "plot2 = fig.add_subplot(1, 3, 2)\n",
    "plot2.title.set_text(\"Human\")\n",
    "plot2.axis('equal')\n",
    "plot2.pie(data[1][\"values\"], labels=data[1][\"labels\"], colors=colors, autopct='%1.1f%%', shadow=True, startangle=180)\n",
    "\n",
    "plot3 = fig.add_subplot(1, 3, 3)\n",
    "plot3.title.set_text(\"Mouse\")\n",
    "plot3.axis('equal')\n",
    "plot3.pie(data[2][\"values\"], labels=data[2][\"labels\"], colors=colors, autopct='%1.1f%%', shadow=True, startangle=180)\n",
    "\n",
    "for plot in [plot1, plot2, plot3]: change_fontsize(plot, 15)\n",
    "reset_axis()\n",
    "\n",
    "plt.savefig('3x1_pie.png')"
   ]
  },
  {
   "cell_type": "markdown",
   "metadata": {},
   "source": [
    "## Many CDF charts"
   ]
  },
  {
   "cell_type": "code",
   "execution_count": null,
   "metadata": {},
   "outputs": [],
   "source": [
    "def get_df_type(df):\n",
    "    df[\"ORFtype\"] = [get_orf_type(row) for _, row in df.iterrows()]\n",
    "for df in [df_zebrafish, df_human, df_mouse]: get_df_type(df)"
   ]
  },
  {
   "cell_type": "code",
   "execution_count": null,
   "metadata": {},
   "outputs": [],
   "source": [
    "(df_human[\"ORFtype\"] == \"u\").head()"
   ]
  },
  {
   "cell_type": "code",
   "execution_count": null,
   "metadata": {},
   "outputs": [],
   "source": [
    "df_zero = df_zebrafish[(df_zebrafish[\"ORFtype\"] == \"n\") & (df_zebrafish[\"orfFrame_GLOBAL\"] > 6.044)]\n",
    "df_fish_u = df_zebrafish[(df_zebrafish[\"ORFtype\"] == \"u\")]\n",
    "df_fish_o = df_zebrafish[(df_zebrafish[\"ORFtype\"] == \"o\")]"
   ]
  },
  {
   "cell_type": "code",
   "execution_count": null,
   "metadata": {},
   "outputs": [],
   "source": [
    "sns.set(rc={\"figure.figsize\": (30, 24)})\n",
    "plt.figure()\n",
    "hours = [2, 5, 12, 24, 48]\n",
    "for i in range(5):\n",
    "    plt.subplot(4, 5, 1 + i)\n",
    "    sns.kdeplot(df_zero[\"CDSTE_{}h\".format(hours[i])].dropna(), cumulative=True, clip=(-1.5, 1.5), color=\"black\", label=\"0 uORFs\")\n",
    "    sns.kdeplot(df_fish_u[df_fish_u[\"numuORFs\"] == 1][\"CDSTE_{}h\".format(hours[i])].dropna(), cumulative=True, clip=(-1.5, 1.5), label=\"1 uORF\")\n",
    "    sns.kdeplot(df_fish_u[df_fish_u[\"numuORFs\"] == 2][\"CDSTE_{}h\".format(hours[i])].dropna(), cumulative=True, clip=(-1.5, 1.5), label=\"2 uORFs\")\n",
    "    sns.kdeplot(df_fish_u[df_fish_u[\"numuORFs\"] >= 3][\"CDSTE_{}h\".format(hours[i])].dropna(), cumulative=True, clip=(-1.5, 1.5), label=\"3+ uORFs\")\n",
    "    plt.title(\"Translation Efficiency of uORF-containing Transcripts at {}h\".format(hours[i]))\n",
    "    plt.xlabel(\"Translation efficiency\")\n",
    "    plt.ylabel(\"CDF\")\n",
    "\n",
    "for i in range(5):\n",
    "    plt.subplot(4, 5, 6 + i)\n",
    "    sns.kdeplot(df_zero[\"CDSTE_{}h\".format(hours[i])].dropna(), cumulative=True, clip=(-1.5, 1.5), color=\"black\", label=\"0 oORFs\")\n",
    "    sns.kdeplot(df_fish_o[df_fish_o[\"numoORFs\"] >= 1][\"CDSTE_{}h\".format(hours[i])].dropna(),\n",
    "                cumulative=True, clip=(-1.5, 1.5), label=\"1-2 oORF\")\n",
    "    plt.title(\"Translation Efficiency of oORF-containing Transcripts at {}h\".format(hours[i]))\n",
    "    plt.xlabel(\"Translation efficiency\")\n",
    "    plt.ylabel(\"CDF\")\n",
    "\n",
    "for i in range(5):\n",
    "    plt.subplot(4, 5, 11 + i)\n",
    "    sns.kdeplot(np.log2(df_zero[\"tx_Input_RPKM_{}h\".format(hours[i])].dropna()), cumulative=True, clip=(0, 7), color=\"black\", label=\"0 uORFs\")\n",
    "    sns.kdeplot(np.log2(df_fish_u[df_fish_u[\"numuORFs\"] == 1][\"tx_Input_RPKM_{}h\".format(hours[i])].dropna()), cumulative=True, clip=(0, 7), label=\"1 uORF\")\n",
    "    sns.kdeplot(np.log2(df_fish_u[df_fish_u[\"numuORFs\"] == 2][\"tx_Input_RPKM_{}h\".format(hours[i])].dropna()), cumulative=True, clip=(0, 7), label=\"2 uORFs\")\n",
    "    sns.kdeplot(np.log2(df_fish_u[df_fish_u[\"numuORFs\"] >= 3][\"tx_Input_RPKM_{}h\".format(hours[i])].dropna()), cumulative=True, clip=(0, 7), label=\"3+ uORFs\")\n",
    "    plt.title(\"RNA Level of uORF-containing Transcripts at {}h\".format(hours[i]))\n",
    "    plt.xlabel(\"RNA level (log2 RPKM)\")\n",
    "    plt.ylabel(\"CDF\")\n",
    "\n",
    "for i in range(5):\n",
    "    plt.subplot(4, 5, 16 + i)\n",
    "    sns.kdeplot(np.log2(df_zero[\"tx_Input_RPKM_{}h\".format(hours[i])].dropna()), cumulative=True, clip=(0.5, 7), color=\"black\", label=\"0 oORFs\")\n",
    "    sns.kdeplot(np.log2(df_fish_o[df_fish_o[\"numoORFs\"] != 0][\"tx_Input_RPKM_{}h\".format(hours[i])].dropna()),\n",
    "                cumulative=True, clip=(0, 7), label=\"1-2 oORFs\")\n",
    "    plt.title(\"RNA Level of oORF-containing Transcripts at {}h\".format(hours[i]))\n",
    "    plt.xlabel(\"RNA level (log2 RPKM)\")\n",
    "    plt.ylabel(\"CDF\")\n",
    "\n",
    "plt.savefig('4x5_CDF.png')"
   ]
  },
  {
   "cell_type": "markdown",
   "metadata": {},
   "source": [
    "## More CDF charts"
   ]
  },
  {
   "cell_type": "code",
   "execution_count": null,
   "metadata": {},
   "outputs": [],
   "source": [
    "df_human_zero = df_human[df_human[\"ORFtype\"] == \"n\"]\n",
    "df_human_u = df_human[(df_human[\"ORFtype\"] == \"u\")]\n",
    "df_human_o = df_human[(df_human[\"ORFtype\"] == \"o\")]\n",
    "\n",
    "df_mouse_zero = df_mouse[df_mouse[\"ORFtype\"] == \"n\"]\n",
    "df_mouse_u = df_mouse[(df_mouse[\"ORFtype\"] == \"u\")]\n",
    "df_mouse_o = df_mouse[(df_mouse[\"ORFtype\"] == \"o\")]"
   ]
  },
  {
   "cell_type": "code",
   "execution_count": null,
   "metadata": {},
   "outputs": [],
   "source": [
    "sns.set(rc={\"figure.figsize\": (15, 15)})\n",
    "plt.figure()\n",
    "\n",
    "plt.subplot(2, 2, 1)\n",
    "sns.kdeplot(df_human_zero[\"CDSTE_hela\"].dropna(), cumulative=True, clip=(-2, 3), color=\"black\", label=\"0 uORFs\")\n",
    "sns.kdeplot(df_human_u[df_human_u[\"numuORFs\"] == 1][\"CDSTE_hela\"].dropna(), cumulative=True, clip=(-2, 3), label=\"1 uORF\")\n",
    "sns.kdeplot(df_human_u[df_human_u[\"numuORFs\"] == 2][\"CDSTE_hela\"].dropna(), cumulative=True, clip=(-2, 3), label=\"2 uORFs\")\n",
    "sns.kdeplot(df_human_u[df_human_u[\"numuORFs\"] >= 3][\"CDSTE_hela\"].dropna(), cumulative=True, clip=(-2, 3), label=\"3+ uORFs\")\n",
    "plt.title(\"Translation Efficiency of uORF-containing Transcripts in HeLa\")\n",
    "plt.xlabel(\"Translation efficiency\")\n",
    "plt.ylabel(\"CDF\")\n",
    "\n",
    "plt.subplot(2, 2, 2)\n",
    "sns.kdeplot(df_human_zero[\"CDSTE_hela\"].dropna(), cumulative=True, clip=(-2, 3), color=\"black\", label=\"0 oORFs\")\n",
    "sns.kdeplot(df_human_o[df_human_o[\"numoORFs\"] >= 1][\"CDSTE_hela\"].dropna(),\n",
    "            cumulative=True, clip=(-2, 3), label=\"1-2 oORF\")\n",
    "plt.title(\"Translation Efficiency of oORF-containing Transcripts in HeLa\")\n",
    "plt.xlabel(\"Translation efficiency\")\n",
    "plt.ylabel(\"CDF\")\n",
    "\n",
    "plt.subplot(2, 2, 3)\n",
    "sns.kdeplot(df_mouse_zero[\"CDSTE_mescn\"].dropna(), cumulative=True, clip=(-2, 3), color=\"black\", label=\"0 uORFs\")\n",
    "sns.kdeplot(df_mouse_u[df_mouse_u[\"numuORFs\"] == 1][\"CDSTE_mescn\"].dropna(), cumulative=True, clip=(-2, 3), label=\"1 uORF\")\n",
    "sns.kdeplot(df_mouse_u[df_mouse_u[\"numuORFs\"] == 2][\"CDSTE_mescn\"].dropna(), cumulative=True, clip=(-2, 3), label=\"2 uORFs\")\n",
    "sns.kdeplot(df_mouse_u[df_mouse_u[\"numuORFs\"] >= 3][\"CDSTE_mescn\"].dropna(), cumulative=True, clip=(-2, 3), label=\"3+ uORFs\")\n",
    "plt.title(\"Translation Efficiency of uORF-containing Transcripts in mESCs\")\n",
    "plt.xlabel(\"Translation efficiency\")\n",
    "plt.ylabel(\"CDF\")\n",
    "\n",
    "plt.subplot(2, 2, 4)\n",
    "sns.kdeplot(df_mouse_zero[\"CDSTE_mescn\"].dropna(), cumulative=True, clip=(-2, 3), color=\"black\", label=\"0 oORFs\")\n",
    "sns.kdeplot(df_mouse_o[df_mouse_o[\"numoORFs\"] >= 1][\"CDSTE_mescn\"].dropna(),\n",
    "            cumulative=True, clip=(-2, 3), label=\"1-2 oORF\")\n",
    "plt.title(\"Translation Efficiency of oORF-containing Transcripts in mESCs\")\n",
    "plt.xlabel(\"Translation efficiency\")\n",
    "plt.ylabel(\"CDF\")\n",
    "\n",
    "plt.savefig('2x2_CDF.png')"
   ]
  },
  {
   "cell_type": "markdown",
   "metadata": {},
   "source": [
    "## 2D charts"
   ]
  },
  {
   "cell_type": "code",
   "execution_count": null,
   "metadata": {},
   "outputs": [],
   "source": [
    "sns.set(rc={\"figure.figsize\": (16, 16)})\n",
    "plt.figure()\n",
    "\n",
    "plt.subplot(2, 2, 1)\n",
    "sns.regplot(x=np.log10(df_zero[\"tx_Input_RPKM_5h\"]), y=df_zero[\"CDSTE_5h\"], scatter_kws={\"alpha\": 0.3}, line_kws={\"color\": \"darkred\"})\n",
    "plt.title(\"RNA level vs. CDS translation in transcripts lacking uORFs\")\n",
    "plt.xlabel(\"RNA level (log10 RPKM)\")\n",
    "plt.ylabel(\"CDS translation efficiency (5hpf, log2)\")\n",
    "plt.axis((-0.5, 4, -10, 10))\n",
    "\n",
    "plt.subplot(2, 2, 2)\n",
    "sns.regplot(x=df_zero[\"txCDSStart\"], y=df_zero[\"CDSTE_5h\"], scatter_kws={\"alpha\": 0.3}, line_kws={\"color\": \"darkred\"})\n",
    "plt.title(\"TLS length vs. CDS translation in transcripts lacking uORFs\")\n",
    "plt.xlabel(\"TLS length\")\n",
    "plt.ylabel(\"CDS translation efficiency (5hpf, log2)\")\n",
    "plt.axis((-0.5, 500, -10, 10))\n",
    "\n",
    "df_one = df_fish_u[df_fish_u[\"numuORFs\"] == 1]\n",
    "\n",
    "plt.subplot(2, 2, 3)\n",
    "sns.regplot(x=df_one[\"txCDSStart\"], y=df_one[\"CDSTE_5h\"], scatter_kws={\"alpha\": 0.005}, line_kws={\"color\": \"darkred\"})\n",
    "plt.title(\"TLS length vs. CDS translation in transcripts with 1 uORF\")\n",
    "plt.xlabel(\"TLS length\")\n",
    "plt.ylabel(\"CDS translation efficiency (5hpf, log2)\")\n",
    "plt.axis((-0.5, 500, -10, 10))\n",
    "\n",
    "plt.subplot(2, 2, 4)\n",
    "sns.regplot(x=df_zebrafish[\"numuORFs\"], y=df_zebrafish[\"txCDSStart\"], fit_reg=False, scatter_kws={\"alpha\": 0.01})\n",
    "plt.title(\"TLS length vs. number of uORFs\")\n",
    "plt.xlabel(\"Number of uORFs\")\n",
    "plt.ylabel(\"TLS length\")\n",
    "plt.axis((-1, 25, -50, 2500))\n",
    "\n",
    "# plt.subplot(3, 2, 5)\n",
    "\n",
    "\n",
    "\n",
    "plt.savefig('2x2_2D.png')"
   ]
  },
  {
   "cell_type": "markdown",
   "metadata": {},
   "source": [
    "## Correlation plot"
   ]
  },
  {
   "cell_type": "code",
   "execution_count": null,
   "metadata": {},
   "outputs": [],
   "source": [
    "mouse_tissues = ['mescn', 'mescy', 'mef', 'liver', 'mef2wt', \n",
    "                 'mef2ko', 'mef2torin', 'mef3cyt', 'mef3er', 'brainwt', 'braintumor']\n",
    "zebrafish_tissues = ['2h', '5h', '12h', '24h', '48h']\n",
    "human_tissues = ['hela', 'hek', 'hbrainwt', 'hbraintumor', 'bjf1', 'bjf2']"
   ]
  },
  {
   "cell_type": "code",
   "execution_count": null,
   "metadata": {},
   "outputs": [],
   "source": [
    "#orfTE\n",
    "#CDSTE\n",
    "def get_point(column, tissue, df):\n",
    "    points = df['{}_{}'.format(column, tissue)].dropna().tolist()\n",
    "    return sum(points)/len(points)\n",
    "\n",
    "mouse_points = list(map(lambda x: (get_point('orfTE', x, df_mouse),\n",
    "                                   get_point('CDSTE', x, df_mouse), 'mouse'), \n",
    "                        mouse_tissues))\n",
    "zebrafish_points = list(map(lambda x: (get_point('orfTE', x, df_zebrafish),\n",
    "                                   get_point('CDSTE', x, df_zebrafish), 'zebrafish'),\n",
    "                            zebrafish_tissues))\n",
    "human_points = list(map(lambda x: (get_point('orfTE', x, df_human),\n",
    "                                   get_point('CDSTE', x, df_human), 'human'), \n",
    "                        human_tissues))\n",
    "overall_points = mouse_points + zebrafish_points + human_points\n",
    "data = {\n",
    "    'name': mouse_tissues + zebrafish_tissues + human_tissues,\n",
    "    'x': [x[0] for x in overall_points],\n",
    "    'y': [x[1] for x in overall_points],\n",
    "    'species': [x[2] for x in overall_points]\n",
    "}\n",
    "\n",
    "plot_df = pd.DataFrame(data)\n",
    "\n",
    "g = sns.lmplot(x='x', y='y', hue='species', data=plot_df, fit_reg=False)\n",
    "ax = sns.regplot(x='x', y='y', data=plot_df, scatter=False, ax=g.axes[0, 0])\n",
    "\n",
    "plt.title('uORF translation correlates with repression')\n",
    "plt.xlabel('Mean uORF TE (log2)')\n",
    "plt.ylabel('Mean repression of uORF-containing transcripts vs. control (log2 TE)')\n",
    "\n",
    "def label_point(x, y, val, ax):\n",
    "    a = pd.concat({'x': x, 'y': y, 'val': val}, axis=1)\n",
    "    for i, point in a.iterrows():\n",
    "        ax.text(point['x']+.02, point['y'], str(point['val']))\n",
    "        \n",
    "label_point(plot_df.x, plot_df.y, plot_df.name, plt.gca())  \n",
    "plt.savefig('correlation.png')"
   ]
  },
  {
   "cell_type": "code",
   "execution_count": null,
   "metadata": {},
   "outputs": [],
   "source": []
  },
  {
   "cell_type": "code",
   "execution_count": null,
   "metadata": {},
   "outputs": [],
   "source": []
  },
  {
   "cell_type": "code",
   "execution_count": null,
   "metadata": {},
   "outputs": [],
   "source": []
  },
  {
   "cell_type": "code",
   "execution_count": null,
   "metadata": {},
   "outputs": [],
   "source": []
  },
  {
   "cell_type": "code",
   "execution_count": null,
   "metadata": {},
   "outputs": [],
   "source": []
  },
  {
   "cell_type": "code",
   "execution_count": null,
   "metadata": {},
   "outputs": [],
   "source": []
  },
  {
   "cell_type": "code",
   "execution_count": null,
   "metadata": {},
   "outputs": [],
   "source": []
  },
  {
   "cell_type": "code",
   "execution_count": null,
   "metadata": {},
   "outputs": [],
   "source": []
  },
  {
   "cell_type": "code",
   "execution_count": null,
   "metadata": {},
   "outputs": [],
   "source": []
  },
  {
   "cell_type": "code",
   "execution_count": null,
   "metadata": {},
   "outputs": [],
   "source": []
  },
  {
   "cell_type": "code",
   "execution_count": null,
   "metadata": {},
   "outputs": [],
   "source": []
  },
  {
   "cell_type": "code",
   "execution_count": null,
   "metadata": {},
   "outputs": [],
   "source": []
  }
 ],
 "metadata": {
  "kernelspec": {
   "display_name": "Python 3",
   "language": "python",
   "name": "python3"
  },
  "language_info": {
   "codemirror_mode": {
    "name": "ipython",
    "version": 2
   },
   "file_extension": ".py",
   "mimetype": "text/x-python",
   "name": "python",
   "nbconvert_exporter": "python",
   "pygments_lexer": "ipython2",
   "version": "2.7.14+"
  }
 },
 "nbformat": 4,
 "nbformat_minor": 2
}
